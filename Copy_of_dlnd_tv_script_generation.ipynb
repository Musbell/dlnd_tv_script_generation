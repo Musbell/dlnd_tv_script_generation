{
  "nbformat": 4,
  "nbformat_minor": 0,
  "metadata": {
    "kernelspec": {
      "display_name": "Python [default]",
      "language": "python",
      "name": "python3"
    },
    "language_info": {
      "codemirror_mode": {
        "name": "ipython",
        "version": 3
      },
      "file_extension": ".py",
      "mimetype": "text/x-python",
      "name": "python",
      "nbconvert_exporter": "python",
      "pygments_lexer": "ipython3",
      "version": "3.6.4"
    },
    "colab": {
      "name": "Copy of dlnd_tv_script_generation.ipynb",
      "provenance": [],
      "include_colab_link": true
    },
    "accelerator": "GPU"
  },
  "cells": [
    {
      "cell_type": "markdown",
      "metadata": {
        "id": "view-in-github",
        "colab_type": "text"
      },
      "source": [
        "<a href=\"https://colab.research.google.com/github/Musbell/dlnd_tv_script_generation/blob/master/Copy_of_dlnd_tv_script_generation.ipynb\" target=\"_parent\"><img src=\"https://colab.research.google.com/assets/colab-badge.svg\" alt=\"Open In Colab\"/></a>"
      ]
    },
    {
      "cell_type": "markdown",
      "metadata": {
        "id": "yPpNP-QsoZqo",
        "colab_type": "text"
      },
      "source": [
        "# TV Script Generation\n",
        "\n",
        "In this project, you'll generate your own [Seinfeld](https://en.wikipedia.org/wiki/Seinfeld) TV scripts using RNNs.  You'll be using part of the [Seinfeld dataset](https://www.kaggle.com/thec03u5/seinfeld-chronicles#scripts.csv) of scripts from 9 seasons.  The Neural Network you'll build will generate a new ,\"fake\" TV script, based on patterns it recognizes in this training data.\n",
        "\n",
        "## Get the Data\n",
        "\n",
        "The data is already provided for you in `./data/Seinfeld_Scripts.txt` and you're encouraged to open that file and look at the text. \n",
        ">* As a first step, we'll load in this data and look at some samples. \n",
        "* Then, you'll be tasked with defining and training an RNN to generate a new script!"
      ]
    },
    {
      "cell_type": "code",
      "metadata": {
        "id": "dqXwtNcuoy4m",
        "colab_type": "code",
        "outputId": "2499020f-d220-4d45-bbdc-17d95eaf7156",
        "colab": {
          "base_uri": "https://localhost:8080/",
          "height": 309
        }
      },
      "source": [
        "!wget https://github.com/udacity/deep-learning-v2-pytorch/raw/master/project-tv-script-generation/data/Seinfeld_Scripts.txt"
      ],
      "execution_count": 0,
      "outputs": [
        {
          "output_type": "stream",
          "text": [
            "--2020-05-22 13:48:45--  https://github.com/udacity/deep-learning-v2-pytorch/raw/master/project-tv-script-generation/data/Seinfeld_Scripts.txt\n",
            "Resolving github.com (github.com)... 140.82.112.4\n",
            "Connecting to github.com (github.com)|140.82.112.4|:443... connected.\n",
            "HTTP request sent, awaiting response... 302 Found\n",
            "Location: https://raw.githubusercontent.com/udacity/deep-learning-v2-pytorch/master/project-tv-script-generation/data/Seinfeld_Scripts.txt [following]\n",
            "--2020-05-22 13:48:46--  https://raw.githubusercontent.com/udacity/deep-learning-v2-pytorch/master/project-tv-script-generation/data/Seinfeld_Scripts.txt\n",
            "Resolving raw.githubusercontent.com (raw.githubusercontent.com)... 151.101.0.133, 151.101.64.133, 151.101.128.133, ...\n",
            "Connecting to raw.githubusercontent.com (raw.githubusercontent.com)|151.101.0.133|:443... connected.\n",
            "HTTP request sent, awaiting response... 200 OK\n",
            "Length: 3471475 (3.3M) [text/plain]\n",
            "Saving to: ‘Seinfeld_Scripts.txt’\n",
            "\n",
            "Seinfeld_Scripts.tx 100%[===================>]   3.31M  15.7MB/s    in 0.2s    \n",
            "\n",
            "2020-05-22 13:48:48 (15.7 MB/s) - ‘Seinfeld_Scripts.txt’ saved [3471475/3471475]\n",
            "\n"
          ],
          "name": "stdout"
        }
      ]
    },
    {
      "cell_type": "code",
      "metadata": {
        "id": "wsnzNIK8pBVb",
        "colab_type": "code",
        "colab": {}
      },
      "source": [
        "!mkdir data && mv Seinfeld_Scripts.txt ./data"
      ],
      "execution_count": 0,
      "outputs": []
    },
    {
      "cell_type": "code",
      "metadata": {
        "id": "sSpovCnBoZqs",
        "colab_type": "code",
        "colab": {}
      },
      "source": [
        "\"\"\"\n",
        "DON'T MODIFY ANYTHING IN THIS CELL\n",
        "\"\"\"\n",
        "# load in data\n",
        "import helper\n",
        "data_dir = './data/Seinfeld_Scripts.txt'\n",
        "text = helper.load_data(data_dir)"
      ],
      "execution_count": 0,
      "outputs": []
    },
    {
      "cell_type": "markdown",
      "metadata": {
        "id": "KTJMjHljoZq5",
        "colab_type": "text"
      },
      "source": [
        "## Explore the Data\n",
        "Play around with `view_line_range` to view different parts of the data. This will give you a sense of the data you'll be working with. You can see, for example, that it is all lowercase text, and each new line of dialogue is separated by a newline character `\\n`."
      ]
    },
    {
      "cell_type": "code",
      "metadata": {
        "id": "jXXGiM2goZq7",
        "colab_type": "code",
        "outputId": "ff837290-55ea-45a2-de94-ef83d1c01d20",
        "colab": {
          "base_uri": "https://localhost:8080/",
          "height": 309
        }
      },
      "source": [
        "view_line_range = (0, 10)\n",
        "\n",
        "\"\"\"\n",
        "DON'T MODIFY ANYTHING IN THIS CELL THAT IS BELOW THIS LINE\n",
        "\"\"\"\n",
        "import numpy as np\n",
        "\n",
        "print('Dataset Stats')\n",
        "print('Roughly the number of unique words: {}'.format(len({word: None for word in text.split()})))\n",
        "\n",
        "lines = text.split('\\n')\n",
        "print('Number of lines: {}'.format(len(lines)))\n",
        "word_count_line = [len(line.split()) for line in lines]\n",
        "print('Average number of words in each line: {}'.format(np.average(word_count_line)))\n",
        "\n",
        "print()\n",
        "print('The lines {} to {}:'.format(*view_line_range))\n",
        "print('\\n'.join(text.split('\\n')[view_line_range[0]:view_line_range[1]]))"
      ],
      "execution_count": 0,
      "outputs": [
        {
          "output_type": "stream",
          "text": [
            "Dataset Stats\n",
            "Roughly the number of unique words: 46367\n",
            "Number of lines: 109233\n",
            "Average number of words in each line: 5.544240293684143\n",
            "\n",
            "The lines 0 to 10:\n",
            "jerry: do you know what this is all about? do you know, why were here? to be out, this is out...and out is one of the single most enjoyable experiences of life. people...did you ever hear people talking about we should go out? this is what theyre talking about...this whole thing, were all out now, no one is home. not one person here is home, were all out! there are people trying to find us, they dont know where we are. (on an imaginary phone) did you ring?, i cant find him. where did he go? he didnt tell me where he was going. he must have gone out. you wanna go out you get ready, you pick out the clothes, right? you take the shower, you get all ready, get the cash, get your friends, the car, the spot, the reservation...then youre standing around, what do you do? you go we gotta be getting back. once youre out, you wanna get back! you wanna go to sleep, you wanna get up, you wanna go out again tomorrow, right? where ever you are in life, its my feeling, youve gotta go. \n",
            "\n",
            "jerry: (pointing at georges shirt) see, to me, that button is in the worst possible spot. the second button literally makes or breaks the shirt, look at it. its too high! its in no-mans-land. you look like you live with your mother. \n",
            "\n",
            "george: are you through? \n",
            "\n",
            "jerry: you do of course try on, when you buy? \n",
            "\n",
            "george: yes, it was purple, i liked it, i dont actually recall considering the buttons. \n",
            "\n"
          ],
          "name": "stdout"
        }
      ]
    },
    {
      "cell_type": "markdown",
      "metadata": {
        "id": "zUw4AD0RoZrF",
        "colab_type": "text"
      },
      "source": [
        "---\n",
        "## Implement Pre-processing Functions\n",
        "The first thing to do to any dataset is pre-processing.  Implement the following pre-processing functions below:\n",
        "- Lookup Table\n",
        "- Tokenize Punctuation\n",
        "\n",
        "### Lookup Table\n",
        "To create a word embedding, you first need to transform the words to ids.  In this function, create two dictionaries:\n",
        "- Dictionary to go from the words to an id, we'll call `vocab_to_int`\n",
        "- Dictionary to go from the id to word, we'll call `int_to_vocab`\n",
        "\n",
        "Return these dictionaries in the following **tuple** `(vocab_to_int, int_to_vocab)`"
      ]
    },
    {
      "cell_type": "code",
      "metadata": {
        "id": "NEyk-4pkoZrH",
        "colab_type": "code",
        "outputId": "0113cd4d-ac0c-43a7-9851-7b943a71cee6",
        "colab": {
          "base_uri": "https://localhost:8080/",
          "height": 34
        }
      },
      "source": [
        "import problem_unittests as tests\n",
        "from collections import Counter\n",
        "\n",
        "def create_lookup_tables(text):\n",
        "    \"\"\"\n",
        "    Create lookup tables for vocabulary\n",
        "    :param text: The text of tv scripts split into words\n",
        "    :return: A tuple of dicts (vocab_to_int, int_to_vocab)\n",
        "    \"\"\"\n",
        "    # TODO: Implement Function\n",
        "    word_counts = Counter(text)\n",
        "    sorted_vocab = sorted(word_counts, key=word_counts.get, reverse=True)\n",
        "    int_to_vocab = {ii: word for ii, word in enumerate(sorted_vocab)}\n",
        "    vocab_to_int = {word: ii for ii, word in int_to_vocab.items()}\n",
        "    \n",
        "    # return tuple\n",
        "    return (vocab_to_int, int_to_vocab)\n",
        "\n",
        "\n",
        "\"\"\"\n",
        "DON'T MODIFY ANYTHING IN THIS CELL THAT IS BELOW THIS LINE\n",
        "\"\"\"\n",
        "tests.test_create_lookup_tables(create_lookup_tables)"
      ],
      "execution_count": 0,
      "outputs": [
        {
          "output_type": "stream",
          "text": [
            "Tests Passed\n"
          ],
          "name": "stdout"
        }
      ]
    },
    {
      "cell_type": "markdown",
      "metadata": {
        "id": "7Wj5_2qBoZrP",
        "colab_type": "text"
      },
      "source": [
        "### Tokenize Punctuation\n",
        "We'll be splitting the script into a word array using spaces as delimiters.  However, punctuations like periods and exclamation marks can create multiple ids for the same word. For example, \"bye\" and \"bye!\" would generate two different word ids.\n",
        "\n",
        "Implement the function `token_lookup` to return a dict that will be used to tokenize symbols like \"!\" into \"||Exclamation_Mark||\".  Create a dictionary for the following symbols where the symbol is the key and value is the token:\n",
        "- Period ( **.** )\n",
        "- Comma ( **,** )\n",
        "- Quotation Mark ( **\"** )\n",
        "- Semicolon ( **;** )\n",
        "- Exclamation mark ( **!** )\n",
        "- Question mark ( **?** )\n",
        "- Left Parentheses ( **(** )\n",
        "- Right Parentheses ( **)** )\n",
        "- Dash ( **-** )\n",
        "- Return ( **\\n** )\n",
        "\n",
        "This dictionary will be used to tokenize the symbols and add the delimiter (space) around it.  This separates each symbols as its own word, making it easier for the neural network to predict the next word. Make sure you don't use a value that could be confused as a word; for example, instead of using the value \"dash\", try using something like \"||dash||\"."
      ]
    },
    {
      "cell_type": "code",
      "metadata": {
        "id": "s0_w4pUwoZrR",
        "colab_type": "code",
        "outputId": "97e993bb-d4bc-4c61-cc9e-4377ecb73eb3",
        "colab": {
          "base_uri": "https://localhost:8080/",
          "height": 34
        }
      },
      "source": [
        "def token_lookup():\n",
        "    \"\"\"\n",
        "    Generate a dict to turn punctuation into a token.\n",
        "    :return: Tokenized dictionary where the key is the punctuation and the value is the token\n",
        "    \"\"\"\n",
        "    # TODO: Implement Function\n",
        "    punctuation_tokens= {\".\" : \"||period||\",\n",
        "                      \",\" : \"||comma||\",\n",
        "                      \"\\\"\" : \"||quotationmark||\",\n",
        "                      \";\" : \"||semicolon||\",\n",
        "                      \"!\" : \"||exclamationmark||\",\n",
        "                      \"?\" : \"||questionmark||\",\n",
        "                      \"(\" : \"||leftparantheses||\",\n",
        "                      \")\" : \"||rightparantheses||\",\n",
        "                      \"-\" : \"||dash||\",\n",
        "                      \"\\n\" : \"||return||\"}    \n",
        "    \n",
        "    return punctuation_tokens\n",
        "\"\"\"\n",
        "DON'T MODIFY ANYTHING IN THIS CELL THAT IS BELOW THIS LINE\n",
        "\"\"\"\n",
        "tests.test_tokenize(token_lookup)"
      ],
      "execution_count": 0,
      "outputs": [
        {
          "output_type": "stream",
          "text": [
            "Tests Passed\n"
          ],
          "name": "stdout"
        }
      ]
    },
    {
      "cell_type": "markdown",
      "metadata": {
        "id": "5KBABqU0oZrW",
        "colab_type": "text"
      },
      "source": [
        "## Pre-process all the data and save it\n",
        "\n",
        "Running the code cell below will pre-process all the data and save it to file. You're encouraged to look at the code for `preprocess_and_save_data` in the `helpers.py` file to see what it's doing in detail, but you do not need to change this code."
      ]
    },
    {
      "cell_type": "code",
      "metadata": {
        "id": "fg673XZkoZrX",
        "colab_type": "code",
        "colab": {}
      },
      "source": [
        "\"\"\"\n",
        "DON'T MODIFY ANYTHING IN THIS CELL\n",
        "\"\"\"\n",
        "# pre-process training data\n",
        "helper.preprocess_and_save_data(data_dir, token_lookup, create_lookup_tables)"
      ],
      "execution_count": 0,
      "outputs": []
    },
    {
      "cell_type": "markdown",
      "metadata": {
        "id": "oMVFPWxToZrd",
        "colab_type": "text"
      },
      "source": [
        "# Check Point\n",
        "This is your first checkpoint. If you ever decide to come back to this notebook or have to restart the notebook, you can start from here. The preprocessed data has been saved to disk."
      ]
    },
    {
      "cell_type": "code",
      "metadata": {
        "id": "ci4rF3PLoZre",
        "colab_type": "code",
        "colab": {}
      },
      "source": [
        "\"\"\"\n",
        "DON'T MODIFY ANYTHING IN THIS CELL\n",
        "\"\"\"\n",
        "import helper\n",
        "import problem_unittests as tests\n",
        "\n",
        "int_text, vocab_to_int, int_to_vocab, token_dict = helper.load_preprocess()"
      ],
      "execution_count": 0,
      "outputs": []
    },
    {
      "cell_type": "markdown",
      "metadata": {
        "id": "ncD_p5VRoZrj",
        "colab_type": "text"
      },
      "source": [
        "## Build the Neural Network\n",
        "In this section, you'll build the components necessary to build an RNN by implementing the RNN Module and forward and backpropagation functions.\n",
        "\n",
        "### Check Access to GPU"
      ]
    },
    {
      "cell_type": "code",
      "metadata": {
        "id": "kDUPddtMoZrk",
        "colab_type": "code",
        "colab": {}
      },
      "source": [
        "\"\"\"\n",
        "DON'T MODIFY ANYTHING IN THIS CELL\n",
        "\"\"\"\n",
        "import torch\n",
        "\n",
        "# Check for a GPU\n",
        "train_on_gpu = torch.cuda.is_available()\n",
        "if not train_on_gpu:\n",
        "    print('No GPU found. Please use a GPU to train your neural network.')"
      ],
      "execution_count": 0,
      "outputs": []
    },
    {
      "cell_type": "markdown",
      "metadata": {
        "id": "a6cqAjOWoZro",
        "colab_type": "text"
      },
      "source": [
        "## Input\n",
        "Let's start with the preprocessed input data. We'll use [TensorDataset](http://pytorch.org/docs/master/data.html#torch.utils.data.TensorDataset) to provide a known format to our dataset; in combination with [DataLoader](http://pytorch.org/docs/master/data.html#torch.utils.data.DataLoader), it will handle batching, shuffling, and other dataset iteration functions.\n",
        "\n",
        "You can create data with TensorDataset by passing in feature and target tensors. Then create a DataLoader as usual.\n",
        "```\n",
        "data = TensorDataset(feature_tensors, target_tensors)\n",
        "data_loader = torch.utils.data.DataLoader(data, \n",
        "                                          batch_size=batch_size)\n",
        "```\n",
        "\n",
        "### Batching\n",
        "Implement the `batch_data` function to batch `words` data into chunks of size `batch_size` using the `TensorDataset` and `DataLoader` classes.\n",
        "\n",
        ">You can batch words using the DataLoader, but it will be up to you to create `feature_tensors` and `target_tensors` of the correct size and content for a given `sequence_length`.\n",
        "\n",
        "For example, say we have these as input:\n",
        "```\n",
        "words = [1, 2, 3, 4, 5, 6, 7]\n",
        "sequence_length = 4\n",
        "```\n",
        "\n",
        "Your first `feature_tensor` should contain the values:\n",
        "```\n",
        "[1, 2, 3, 4]\n",
        "```\n",
        "And the corresponding `target_tensor` should just be the next \"word\"/tokenized word value:\n",
        "```\n",
        "5\n",
        "```\n",
        "This should continue with the second `feature_tensor`, `target_tensor` being:\n",
        "```\n",
        "[2, 3, 4, 5]  # features\n",
        "6             # target\n",
        "```"
      ]
    },
    {
      "cell_type": "code",
      "metadata": {
        "id": "fXRluw8noZrq",
        "colab_type": "code",
        "colab": {}
      },
      "source": [
        "from torch.utils.data import TensorDataset, DataLoader\n",
        "\n",
        "\n",
        "def batch_data(words, sequence_length, batch_size):\n",
        "    \"\"\"\n",
        "    Batch the neural network data using DataLoader\n",
        "    :param words: The word ids of the TV scripts\n",
        "    :param sequence_length: The sequence length of each batch\n",
        "    :param batch_size: The size of each batch; the number of sequences in a batch\n",
        "    :return: DataLoader with batched data\n",
        "    \"\"\"\n",
        "    # TODO: Implement function\n",
        "    output, target = [], []\n",
        "    for sequence_number in range(len(words) - sequence_length):\n",
        "        sequence = words[sequence_number:sequence_number + sequence_length]\n",
        "        output.append(sequence)\n",
        "        target.append(words[sequence_number + sequence_length])           \n",
        "\n",
        "    feature_tensors = torch.from_numpy(np.asarray(output))\n",
        "    target_tensors = torch.from_numpy(np.asarray(target))\n",
        "    data = TensorDataset(feature_tensors, target_tensors)\n",
        "    data_loader = torch.utils.data.DataLoader(data, \n",
        "                                          batch_size=batch_size)\n",
        "    \n",
        "    # return a dataloader\n",
        "    return data_loader\n",
        "\n",
        "# there is no test for this function, but you are encouraged to create\n",
        "# print statements and tests of your own\n"
      ],
      "execution_count": 0,
      "outputs": []
    },
    {
      "cell_type": "markdown",
      "metadata": {
        "id": "Z490X0QooZrw",
        "colab_type": "text"
      },
      "source": [
        "### Test your dataloader \n",
        "\n",
        "You'll have to modify this code to test a batching function, but it should look fairly similar.\n",
        "\n",
        "Below, we're generating some test text data and defining a dataloader using the function you defined, above. Then, we are getting some sample batch of inputs `sample_x` and targets `sample_y` from our dataloader.\n",
        "\n",
        "Your code should return something like the following (likely in a different order, if you shuffled your data):\n",
        "\n",
        "```\n",
        "torch.Size([10, 5])\n",
        "tensor([[ 28,  29,  30,  31,  32],\n",
        "        [ 21,  22,  23,  24,  25],\n",
        "        [ 17,  18,  19,  20,  21],\n",
        "        [ 34,  35,  36,  37,  38],\n",
        "        [ 11,  12,  13,  14,  15],\n",
        "        [ 23,  24,  25,  26,  27],\n",
        "        [  6,   7,   8,   9,  10],\n",
        "        [ 38,  39,  40,  41,  42],\n",
        "        [ 25,  26,  27,  28,  29],\n",
        "        [  7,   8,   9,  10,  11]])\n",
        "\n",
        "torch.Size([10])\n",
        "tensor([ 33,  26,  22,  39,  16,  28,  11,  43,  30,  12])\n",
        "```\n",
        "\n",
        "### Sizes\n",
        "Your sample_x should be of size `(batch_size, sequence_length)` or (10, 5) in this case and sample_y should just have one dimension: batch_size (10). \n",
        "\n",
        "### Values\n",
        "\n",
        "You should also notice that the targets, sample_y, are the *next* value in the ordered test_text data. So, for an input sequence `[ 28,  29,  30,  31,  32]` that ends with the value `32`, the corresponding output should be `33`."
      ]
    },
    {
      "cell_type": "code",
      "metadata": {
        "id": "9_NhF62UoZrx",
        "colab_type": "code",
        "outputId": "09656fd0-2eac-46d3-f55a-3aed4058876f",
        "colab": {
          "base_uri": "https://localhost:8080/",
          "height": 255
        }
      },
      "source": [
        "# test dataloader\n",
        "\n",
        "test_text = range(50)\n",
        "t_loader = batch_data(test_text, sequence_length=5, batch_size=10)\n",
        "\n",
        "data_iter = iter(t_loader)\n",
        "sample_x, sample_y = data_iter.next()\n",
        "\n",
        "print(sample_x.shape)\n",
        "print(sample_x)\n",
        "print()\n",
        "print(sample_y.shape)\n",
        "print(sample_y)"
      ],
      "execution_count": 0,
      "outputs": [
        {
          "output_type": "stream",
          "text": [
            "torch.Size([10, 5])\n",
            "tensor([[ 0,  1,  2,  3,  4],\n",
            "        [ 1,  2,  3,  4,  5],\n",
            "        [ 2,  3,  4,  5,  6],\n",
            "        [ 3,  4,  5,  6,  7],\n",
            "        [ 4,  5,  6,  7,  8],\n",
            "        [ 5,  6,  7,  8,  9],\n",
            "        [ 6,  7,  8,  9, 10],\n",
            "        [ 7,  8,  9, 10, 11],\n",
            "        [ 8,  9, 10, 11, 12],\n",
            "        [ 9, 10, 11, 12, 13]])\n",
            "\n",
            "torch.Size([10])\n",
            "tensor([ 5,  6,  7,  8,  9, 10, 11, 12, 13, 14])\n"
          ],
          "name": "stdout"
        }
      ]
    },
    {
      "cell_type": "markdown",
      "metadata": {
        "id": "z2xtdtoWoZr3",
        "colab_type": "text"
      },
      "source": [
        "---\n",
        "## Build the Neural Network\n",
        "Implement an RNN using PyTorch's [Module class](http://pytorch.org/docs/master/nn.html#torch.nn.Module). You may choose to use a GRU or an LSTM. To complete the RNN, you'll have to implement the following functions for the class:\n",
        " - `__init__` - The initialize function. \n",
        " - `init_hidden` - The initialization function for an LSTM/GRU hidden state\n",
        " - `forward` - Forward propagation function.\n",
        " \n",
        "The initialize function should create the layers of the neural network and save them to the class. The forward propagation function will use these layers to run forward propagation and generate an output and a hidden state.\n",
        "\n",
        "**The output of this model should be the *last* batch of word scores** after a complete sequence has been processed. That is, for each input sequence of words, we only want to output the word scores for a single, most likely, next word.\n",
        "\n",
        "### Hints\n",
        "\n",
        "1. Make sure to stack the outputs of the lstm to pass to your fully-connected layer, you can do this with `lstm_output = lstm_output.contiguous().view(-1, self.hidden_dim)`\n",
        "2. You can get the last batch of word scores by shaping the output of the final, fully-connected layer like so:\n",
        "\n",
        "```\n",
        "# reshape into (batch_size, seq_length, output_size)\n",
        "output = output.view(batch_size, -1, self.output_size)\n",
        "# get last batch\n",
        "out = output[:, -1]\n",
        "```"
      ]
    },
    {
      "cell_type": "code",
      "metadata": {
        "id": "EL1mIfQuoZr3",
        "colab_type": "code",
        "outputId": "80682b1c-0164-4125-975e-ba8576026549",
        "colab": {
          "base_uri": "https://localhost:8080/",
          "height": 34
        }
      },
      "source": [
        "import torch.nn as nn\n",
        "\n",
        "class RNN(nn.Module):\n",
        "    \n",
        "    def __init__(self, vocab_size, output_size, embedding_dim, hidden_dim, n_layers, dropout=0.5):\n",
        "        \"\"\"\n",
        "        Initialize the PyTorch RNN Module\n",
        "        :param vocab_size: The number of input dimensions of the neural network (the size of the vocabulary)\n",
        "        :param output_size: The number of output dimensions of the neural network\n",
        "        :param embedding_dim: The size of embeddings, should you choose to use them        \n",
        "        :param hidden_dim: The size of the hidden layer outputs\n",
        "        :param dropout: dropout to add in between LSTM/GRU layers\n",
        "        \"\"\"\n",
        "        super(RNN, self).__init__()\n",
        "        # TODO: Implement function\n",
        "        \n",
        "        # set class variables\n",
        "        self.vocab_size = vocab_size\n",
        "        self.output_size = output_size\n",
        "        self.embedding_dim = embedding_dim\n",
        "        self.hidden_dim = hidden_dim\n",
        "        self.n_layers = n_layers\n",
        "        \n",
        "        # define model layers\n",
        "        self.embedding = nn.Embedding(vocab_size, embedding_dim)\n",
        "        self.lstm = nn.LSTM(embedding_dim, hidden_dim, n_layers, \n",
        "                            dropout=dropout, batch_first=True)\n",
        "        \n",
        "        # dropout layer\n",
        "        self.dropout = nn.Dropout(dropout)      \n",
        "\n",
        "        self.fc = nn.Linear(hidden_dim, output_size)\n",
        "\n",
        "        # Initialize weights\n",
        "        nn.init.orthogonal_(self.embedding.weight.data, gain=1)\n",
        "        nn.init.orthogonal_(self.lstm.weight_ih_l0.data, gain=1)\n",
        "        nn.init.orthogonal_(self.lstm.weight_hh_l0.data, gain=1)\n",
        "        # nn.init.orthogonal_(self.fc.weight.data, gain=1)\n",
        "        self.fc.weight.data.normal_(0.0, (1.0 / np.sqrt(self.fc.in_features)))\n",
        "    \n",
        "        self.lstm.bias_ih_l0.data.zero_()\n",
        "        self.lstm.bias_hh_l0.data.zero_()\n",
        "        self.fc.bias.data.fill_(0)\n",
        "\n",
        "    def forward(self, nn_input, hidden):      \n",
        "        \"\"\"\n",
        "        Forward propagation of the neural network\n",
        "        :param nn_input: The input to the neural network\n",
        "        :param hidden: The hidden state        \n",
        "        :return: Two Tensors, the output of the neural network and the latest hidden state\n",
        "        \"\"\"\n",
        "        # TODO: Implement function \n",
        "        batch_size = nn_input.size(0)\n",
        "        embeds = self.dropout(self.embedding(nn_input)) \n",
        "        lstm_out, hidden = self.lstm(embeds, hidden)\n",
        "        lstm_out = lstm_out.contiguous().view(-1, self.hidden_dim)\n",
        "        sig_out = self.fc(lstm_out)\n",
        "        sig_out = sig_out.view(batch_size, -1, self.output_size)\n",
        "        sig_out = sig_out[:, -1]\n",
        "\n",
        "        # return one batch of output word scores and the hidden state\n",
        "        return sig_out, hidden\n",
        "    \n",
        "    \n",
        "    def init_hidden(self, batch_size):\n",
        "        '''\n",
        "        Initialize the hidden state of an LSTM/GRU\n",
        "        :param batch_size: The batch_size of the hidden state\n",
        "        :return: hidden state of dims (n_layers, batch_size, hidden_dim)\n",
        "        '''\n",
        "        # Implement function\n",
        "        weight = next(self.parameters()).data\n",
        "        \n",
        "        # initialize hidden state with zero weights, and move to GPU if available\n",
        "        if (train_on_gpu):\n",
        "            hidden = (weight.new(self.n_layers, batch_size, self.hidden_dim).zero_().cuda(),\n",
        "                  weight.new(self.n_layers, batch_size, self.hidden_dim).zero_().cuda())\n",
        "        else:\n",
        "            hidden = (weight.new(self.n_layers, batch_size, self.hidden_dim).zero_(),\n",
        "                      weight.new(self.n_layers, batch_size, self.hidden_dim).zero_())\n",
        " \n",
        "        \n",
        "        return hidden\n",
        "\n",
        "\"\"\"\n",
        "DON'T MODIFY ANYTHING IN THIS CELL THAT IS BELOW THIS LINE\n",
        "\"\"\"\n",
        "tests.test_rnn(RNN, train_on_gpu)"
      ],
      "execution_count": 0,
      "outputs": [
        {
          "output_type": "stream",
          "text": [
            "Tests Passed\n"
          ],
          "name": "stdout"
        }
      ]
    },
    {
      "cell_type": "markdown",
      "metadata": {
        "id": "dsRSFlkroZr9",
        "colab_type": "text"
      },
      "source": [
        "### Define forward and backpropagation\n",
        "\n",
        "Use the RNN class you implemented to apply forward and back propagation. This function will be called, iteratively, in the training loop as follows:\n",
        "```\n",
        "loss = forward_back_prop(decoder, decoder_optimizer, criterion, inp, target)\n",
        "```\n",
        "\n",
        "And it should return the average loss over a batch and the hidden state returned by a call to `RNN(inp, hidden)`. Recall that you can get this loss by computing it, as usual, and calling `loss.item()`.\n",
        "\n",
        "**If a GPU is available, you should move your data to that GPU device, here.**"
      ]
    },
    {
      "cell_type": "code",
      "metadata": {
        "id": "bj-ER6WhoZr-",
        "colab_type": "code",
        "outputId": "3318cab5-d7dc-4dac-dbe5-544c88d8d995",
        "colab": {
          "base_uri": "https://localhost:8080/",
          "height": 34
        }
      },
      "source": [
        "def forward_back_prop(rnn, optimizer, criterion, inp, target, hidden):\n",
        "    \"\"\"\n",
        "    Forward and backward propagation on the neural network\n",
        "    :param rnn: The PyTorch Module that holds the neural network\n",
        "    :param optimizer: The PyTorch optimizer for the neural network\n",
        "    :param criterion: The PyTorch loss function\n",
        "    :param inp: A batch of input to the neural network\n",
        "    :param target: The target output for the batch of input\n",
        "    :return: The loss and the latest hidden state Tensor\n",
        "    \"\"\"\n",
        "    \n",
        "    # TODO: Implement Function\n",
        "    \n",
        "    # move data to GPU, if available\n",
        "    if(train_on_gpu):\n",
        "        inp, target = inp.cuda(), target.cuda()\n",
        "    \n",
        "    # perform backpropagation and optimization\n",
        "    hidden = tuple([each.data for each in hidden])\n",
        "\n",
        "    rnn.zero_grad()\n",
        "    optimizer.zero_grad()\n",
        "\n",
        "    output, hidden = rnn(inp, hidden) \n",
        "\n",
        "    loss = criterion(output, target)\n",
        "    loss.backward()\n",
        "\n",
        "    nn.utils.clip_grad_norm_(rnn.parameters(), 5)    \n",
        "\n",
        "    optimizer.step()   \n",
        "  \n",
        "\n",
        "    # return the loss over a batch and the hidden state produced by our model\n",
        "    return loss.item(), hidden\n",
        "\n",
        "# Note that these tests aren't completely extensive.\n",
        "# they are here to act as general checks on the expected outputs of your functions\n",
        "\"\"\"\n",
        "DON'T MODIFY ANYTHING IN THIS CELL THAT IS BELOW THIS LINE\n",
        "\"\"\"\n",
        "tests.test_forward_back_prop(RNN, forward_back_prop, train_on_gpu)"
      ],
      "execution_count": 0,
      "outputs": [
        {
          "output_type": "stream",
          "text": [
            "Tests Passed\n"
          ],
          "name": "stdout"
        }
      ]
    },
    {
      "cell_type": "markdown",
      "metadata": {
        "id": "0lF4BwNpoZsD",
        "colab_type": "text"
      },
      "source": [
        "## Neural Network Training\n",
        "\n",
        "With the structure of the network complete and data ready to be fed in the neural network, it's time to train it.\n",
        "\n",
        "### Train Loop\n",
        "\n",
        "The training loop is implemented for you in the `train_decoder` function. This function will train the network over all the batches for the number of epochs given. The model progress will be shown every number of batches. This number is set with the `show_every_n_batches` parameter. You'll set this parameter along with other parameters in the next section."
      ]
    },
    {
      "cell_type": "code",
      "metadata": {
        "id": "vqkT4O7voZsE",
        "colab_type": "code",
        "colab": {}
      },
      "source": [
        "\"\"\"\n",
        "DON'T MODIFY ANYTHING IN THIS CELL\n",
        "\"\"\"\n",
        "\n",
        "def train_rnn(rnn, batch_size, optimizer, criterion, n_epochs, show_every_n_batches=100):\n",
        "    batch_losses = []\n",
        "    \n",
        "    rnn.train()\n",
        "\n",
        "    print(\"Training for %d epoch(s)...\" % n_epochs)\n",
        "    for epoch_i in range(1, n_epochs + 1):\n",
        "        \n",
        "        # initialize hidden state\n",
        "        hidden = rnn.init_hidden(batch_size)\n",
        "        \n",
        "        for batch_i, (inputs, labels) in enumerate(train_loader, 1):\n",
        "            \n",
        "            # make sure you iterate over completely full batches, only\n",
        "            n_batches = len(train_loader.dataset)//batch_size\n",
        "            if(batch_i > n_batches):\n",
        "                break\n",
        "            \n",
        "            # forward, back prop\n",
        "            loss, hidden = forward_back_prop(rnn, optimizer, criterion, inputs, labels, hidden)          \n",
        "            # record loss\n",
        "            batch_losses.append(loss)\n",
        "\n",
        "            # printing loss stats\n",
        "            if batch_i % show_every_n_batches == 0:\n",
        "                print('Epoch: {:>4}/{:<4}  Loss: {}\\n'.format(\n",
        "                    epoch_i, n_epochs, np.average(batch_losses)))\n",
        "                batch_losses = []\n",
        "\n",
        "    # returns a trained rnn\n",
        "    return rnn"
      ],
      "execution_count": 0,
      "outputs": []
    },
    {
      "cell_type": "markdown",
      "metadata": {
        "id": "IxhxPw2noZsI",
        "colab_type": "text"
      },
      "source": [
        "### Hyperparameters\n",
        "\n",
        "Set and train the neural network with the following parameters:\n",
        "- Set `sequence_length` to the length of a sequence.\n",
        "- Set `batch_size` to the batch size.\n",
        "- Set `num_epochs` to the number of epochs to train for.\n",
        "- Set `learning_rate` to the learning rate for an Adam optimizer.\n",
        "- Set `vocab_size` to the number of unique tokens in our vocabulary.\n",
        "- Set `output_size` to the desired size of the output.\n",
        "- Set `embedding_dim` to the embedding dimension; smaller than the vocab_size.\n",
        "- Set `hidden_dim` to the hidden dimension of your RNN.\n",
        "- Set `n_layers` to the number of layers/cells in your RNN.\n",
        "- Set `show_every_n_batches` to the number of batches at which the neural network should print progress.\n",
        "\n",
        "If the network isn't getting the desired results, tweak these parameters and/or the layers in the `RNN` class."
      ]
    },
    {
      "cell_type": "code",
      "metadata": {
        "id": "dx_V63W1oZsJ",
        "colab_type": "code",
        "colab": {}
      },
      "source": [
        "# Data params\n",
        "# Sequence Length\n",
        "sequence_length = 6  # of words in a sequence\n",
        "# Batch Size\n",
        "batch_size = 128\n",
        "\n",
        "# data loader - do not change\n",
        "train_loader = batch_data(int_text, sequence_length, batch_size)"
      ],
      "execution_count": 0,
      "outputs": []
    },
    {
      "cell_type": "code",
      "metadata": {
        "id": "y1kQGzYPoZsP",
        "colab_type": "code",
        "colab": {}
      },
      "source": [
        "# Training parameters\n",
        "# Number of Epochs\n",
        "num_epochs = 10\n",
        "# Learning Rate\n",
        "learning_rate = 0.002\n",
        "\n",
        "# Model parameters\n",
        "# Vocab size\n",
        "vocab_size = len(vocab_to_int)\n",
        "# Output size\n",
        "output_size = len(vocab_to_int)\n",
        "# Embedding Dimension\n",
        "embedding_dim = 256\n",
        "# Hidden Dimension\n",
        "hidden_dim = 256\n",
        "# Number of RNN Layers\n",
        "n_layers = 2\n",
        "\n",
        "# Show stats for every n number of batches\n",
        "show_every_n_batches = 500"
      ],
      "execution_count": 0,
      "outputs": []
    },
    {
      "cell_type": "markdown",
      "metadata": {
        "id": "FLL4rodBoZsT",
        "colab_type": "text"
      },
      "source": [
        "### Train\n",
        "In the next cell, you'll train the neural network on the pre-processed data.  If you have a hard time getting a good loss, you may consider changing your hyperparameters. In general, you may get better results with larger hidden and n_layer dimensions, but larger models take a longer time to train. \n",
        "> **You should aim for a loss less than 3.5.** \n",
        "\n",
        "You should also experiment with different sequence lengths, which determine the size of the long range dependencies that a model can learn."
      ]
    },
    {
      "cell_type": "code",
      "metadata": {
        "id": "aYtlac8IoZsU",
        "colab_type": "code",
        "outputId": "5eed668e-7baa-47d0-d653-7bbba8916f7f",
        "colab": {
          "base_uri": "https://localhost:8080/",
          "height": 1000
        }
      },
      "source": [
        "\"\"\"\n",
        "DON'T MODIFY ANYTHING IN THIS CELL\n",
        "\"\"\"\n",
        "\n",
        "# create model and move to gpu if available\n",
        "rnn = RNN(vocab_size, output_size, embedding_dim, hidden_dim, n_layers, dropout=0.5)\n",
        "if train_on_gpu:\n",
        "    rnn.cuda()\n",
        "\n",
        "# defining loss and optimization functions for training\n",
        "optimizer = torch.optim.Adam(rnn.parameters(), lr=learning_rate)\n",
        "criterion = nn.CrossEntropyLoss()\n",
        "\n",
        "# training the model\n",
        "trained_rnn = train_rnn(rnn, batch_size, optimizer, criterion, num_epochs, show_every_n_batches)\n",
        "\n",
        "# saving the trained model\n",
        "helper.save_model('./save/trained_rnn', trained_rnn)\n",
        "print('Model Trained and Saved')"
      ],
      "execution_count": 0,
      "outputs": [
        {
          "output_type": "stream",
          "text": [
            "Training for 10 epoch(s)...\n",
            "Epoch:    1/10    Loss: 5.56244327878952\n",
            "\n",
            "Epoch:    1/10    Loss: 4.910303370475769\n",
            "\n",
            "Epoch:    1/10    Loss: 4.6980731825828554\n",
            "\n",
            "Epoch:    1/10    Loss: 4.614600235939026\n",
            "\n",
            "Epoch:    1/10    Loss: 4.626844027519226\n",
            "\n",
            "Epoch:    1/10    Loss: 4.676182276248932\n",
            "\n",
            "Epoch:    1/10    Loss: 4.591283762454987\n",
            "\n",
            "Epoch:    1/10    Loss: 4.468223242282868\n",
            "\n",
            "Epoch:    1/10    Loss: 4.433908961296082\n",
            "\n",
            "Epoch:    1/10    Loss: 4.3752703924179075\n",
            "\n",
            "Epoch:    1/10    Loss: 4.483698206424713\n",
            "\n",
            "Epoch:    1/10    Loss: 4.520131562709809\n",
            "\n",
            "Epoch:    1/10    Loss: 4.521577564239502\n",
            "\n",
            "Epoch:    2/10    Loss: 4.329844816304336\n",
            "\n",
            "Epoch:    2/10    Loss: 4.143009693145752\n",
            "\n",
            "Epoch:    2/10    Loss: 4.0369057059288025\n",
            "\n",
            "Epoch:    2/10    Loss: 3.990239805698395\n",
            "\n",
            "Epoch:    2/10    Loss: 4.05373105096817\n",
            "\n",
            "Epoch:    2/10    Loss: 4.142390853881836\n",
            "\n",
            "Epoch:    2/10    Loss: 4.05828956413269\n",
            "\n",
            "Epoch:    2/10    Loss: 3.975681797981262\n",
            "\n",
            "Epoch:    2/10    Loss: 3.9874449243545533\n",
            "\n",
            "Epoch:    2/10    Loss: 3.9512020611763\n",
            "\n",
            "Epoch:    2/10    Loss: 4.087488334655761\n",
            "\n",
            "Epoch:    2/10    Loss: 4.0713158836364745\n",
            "\n",
            "Epoch:    2/10    Loss: 4.059521581172943\n",
            "\n",
            "Epoch:    3/10    Loss: 3.9936388719930735\n",
            "\n",
            "Epoch:    3/10    Loss: 3.903654628753662\n",
            "\n",
            "Epoch:    3/10    Loss: 3.814908875465393\n",
            "\n",
            "Epoch:    3/10    Loss: 3.7868024778366087\n",
            "\n",
            "Epoch:    3/10    Loss: 3.8577936730384828\n",
            "\n",
            "Epoch:    3/10    Loss: 3.9411311087608336\n",
            "\n",
            "Epoch:    3/10    Loss: 3.8543546953201293\n",
            "\n",
            "Epoch:    3/10    Loss: 3.757471297740936\n",
            "\n",
            "Epoch:    3/10    Loss: 3.774879518032074\n",
            "\n",
            "Epoch:    3/10    Loss: 3.7330954155921936\n",
            "\n",
            "Epoch:    3/10    Loss: 3.8778999342918397\n",
            "\n",
            "Epoch:    3/10    Loss: 3.868133898735046\n",
            "\n",
            "Epoch:    3/10    Loss: 3.8885993518829345\n",
            "\n",
            "Epoch:    4/10    Loss: 3.8333238012650432\n",
            "\n",
            "Epoch:    4/10    Loss: 3.769441508293152\n",
            "\n",
            "Epoch:    4/10    Loss: 3.6901540627479554\n",
            "\n",
            "Epoch:    4/10    Loss: 3.650570443153381\n",
            "\n",
            "Epoch:    4/10    Loss: 3.6967784118652345\n",
            "\n",
            "Epoch:    4/10    Loss: 3.7798422913551333\n",
            "\n",
            "Epoch:    4/10    Loss: 3.7273699169158934\n",
            "\n",
            "Epoch:    4/10    Loss: 3.6491548619270326\n",
            "\n",
            "Epoch:    4/10    Loss: 3.6409206171035766\n",
            "\n",
            "Epoch:    4/10    Loss: 3.611777089595795\n",
            "\n",
            "Epoch:    4/10    Loss: 3.7406651091575625\n",
            "\n",
            "Epoch:    4/10    Loss: 3.732123977661133\n",
            "\n",
            "Epoch:    4/10    Loss: 3.728365355014801\n",
            "\n",
            "Epoch:    5/10    Loss: 3.6810284330133807\n",
            "\n",
            "Epoch:    5/10    Loss: 3.6555648012161255\n",
            "\n",
            "Epoch:    5/10    Loss: 3.5841738605499267\n",
            "\n",
            "Epoch:    5/10    Loss: 3.5475908203125\n",
            "\n",
            "Epoch:    5/10    Loss: 3.568121401309967\n",
            "\n",
            "Epoch:    5/10    Loss: 3.6578649201393127\n",
            "\n",
            "Epoch:    5/10    Loss: 3.634286343574524\n",
            "\n",
            "Epoch:    5/10    Loss: 3.5378426990509033\n",
            "\n",
            "Epoch:    5/10    Loss: 3.5476880192756655\n",
            "\n",
            "Epoch:    5/10    Loss: 3.521600028991699\n",
            "\n",
            "Epoch:    5/10    Loss: 3.6578029870986937\n",
            "\n",
            "Epoch:    5/10    Loss: 3.630821879386902\n",
            "\n",
            "Epoch:    5/10    Loss: 3.6264254851341247\n",
            "\n",
            "Epoch:    6/10    Loss: 3.599806641646583\n",
            "\n",
            "Epoch:    6/10    Loss: 3.573854053020477\n",
            "\n",
            "Epoch:    6/10    Loss: 3.504800064086914\n",
            "\n",
            "Epoch:    6/10    Loss: 3.4707560739517214\n",
            "\n",
            "Epoch:    6/10    Loss: 3.48973565864563\n",
            "\n",
            "Epoch:    6/10    Loss: 3.581674105167389\n",
            "\n",
            "Epoch:    6/10    Loss: 3.5529989910125734\n",
            "\n",
            "Epoch:    6/10    Loss: 3.4802721786499022\n",
            "\n",
            "Epoch:    6/10    Loss: 3.4513348789215086\n",
            "\n",
            "Epoch:    6/10    Loss: 3.4427823538780213\n",
            "\n",
            "Epoch:    6/10    Loss: 3.5728966064453127\n",
            "\n",
            "Epoch:    6/10    Loss: 3.5535009145736693\n",
            "\n",
            "Epoch:    6/10    Loss: 3.5465585827827453\n",
            "\n",
            "Epoch:    7/10    Loss: 3.5396279058466265\n",
            "\n",
            "Epoch:    7/10    Loss: 3.520111964225769\n",
            "\n",
            "Epoch:    7/10    Loss: 3.4476921300888064\n",
            "\n",
            "Epoch:    7/10    Loss: 3.419687093257904\n",
            "\n",
            "Epoch:    7/10    Loss: 3.4350061645507814\n",
            "\n",
            "Epoch:    7/10    Loss: 3.5261217012405397\n",
            "\n",
            "Epoch:    7/10    Loss: 3.4980699734687803\n",
            "\n",
            "Epoch:    7/10    Loss: 3.4093948693275453\n",
            "\n",
            "Epoch:    7/10    Loss: 3.393206471443176\n",
            "\n",
            "Epoch:    7/10    Loss: 3.3940995721817018\n",
            "\n",
            "Epoch:    7/10    Loss: 3.508924262046814\n",
            "\n",
            "Epoch:    7/10    Loss: 3.502144666671753\n",
            "\n",
            "Epoch:    7/10    Loss: 3.500683745384216\n",
            "\n",
            "Epoch:    8/10    Loss: 3.4824443156259104\n",
            "\n",
            "Epoch:    8/10    Loss: 3.4729926118850707\n",
            "\n",
            "Epoch:    8/10    Loss: 3.402048413276672\n",
            "\n",
            "Epoch:    8/10    Loss: 3.368991120815277\n",
            "\n",
            "Epoch:    8/10    Loss: 3.38821041727066\n",
            "\n",
            "Epoch:    8/10    Loss: 3.4838561334609985\n",
            "\n",
            "Epoch:    8/10    Loss: 3.455620578289032\n",
            "\n",
            "Epoch:    8/10    Loss: 3.3553140473365786\n",
            "\n",
            "Epoch:    8/10    Loss: 3.3497169356346133\n",
            "\n",
            "Epoch:    8/10    Loss: 3.355436605930328\n",
            "\n",
            "Epoch:    8/10    Loss: 3.465699269771576\n",
            "\n",
            "Epoch:    8/10    Loss: 3.4596448044776915\n",
            "\n",
            "Epoch:    8/10    Loss: 3.4477339243888854\n",
            "\n",
            "Epoch:    9/10    Loss: 3.4398657825340058\n",
            "\n",
            "Epoch:    9/10    Loss: 3.4234668726921083\n",
            "\n",
            "Epoch:    9/10    Loss: 3.3692519550323485\n",
            "\n",
            "Epoch:    9/10    Loss: 3.330906846523285\n",
            "\n",
            "Epoch:    9/10    Loss: 3.341855917453766\n",
            "\n",
            "Epoch:    9/10    Loss: 3.4384661750793457\n",
            "\n",
            "Epoch:    9/10    Loss: 3.412485777378082\n",
            "\n",
            "Epoch:    9/10    Loss: 3.310653549194336\n",
            "\n",
            "Epoch:    9/10    Loss: 3.3135913739204406\n",
            "\n",
            "Epoch:    9/10    Loss: 3.312694610118866\n",
            "\n",
            "Epoch:    9/10    Loss: 3.4222816596031187\n",
            "\n",
            "Epoch:    9/10    Loss: 3.4132963247299193\n",
            "\n",
            "Epoch:    9/10    Loss: 3.4190695610046387\n",
            "\n",
            "Epoch:   10/10    Loss: 3.4055376505581094\n",
            "\n",
            "Epoch:   10/10    Loss: 3.397296283721924\n",
            "\n",
            "Epoch:   10/10    Loss: 3.3322334251403807\n",
            "\n",
            "Epoch:   10/10    Loss: 3.29802277135849\n",
            "\n",
            "Epoch:   10/10    Loss: 3.309549898147583\n",
            "\n",
            "Epoch:   10/10    Loss: 3.407554894924164\n",
            "\n",
            "Epoch:   10/10    Loss: 3.380235637664795\n",
            "\n",
            "Epoch:   10/10    Loss: 3.284531249523163\n",
            "\n",
            "Epoch:   10/10    Loss: 3.272171718597412\n",
            "\n",
            "Epoch:   10/10    Loss: 3.284385597229004\n",
            "\n",
            "Epoch:   10/10    Loss: 3.3815667843818664\n",
            "\n",
            "Epoch:   10/10    Loss: 3.381247236251831\n",
            "\n",
            "Epoch:   10/10    Loss: 3.387117910861969\n",
            "\n",
            "Model Trained and Saved\n"
          ],
          "name": "stdout"
        },
        {
          "output_type": "stream",
          "text": [
            "/usr/local/lib/python3.6/dist-packages/torch/serialization.py:402: UserWarning: Couldn't retrieve source code for container of type RNN. It won't be checked for correctness upon loading.\n",
            "  \"type \" + obj.__name__ + \". It won't be checked \"\n"
          ],
          "name": "stderr"
        }
      ]
    },
    {
      "cell_type": "markdown",
      "metadata": {
        "id": "4tk0qmS_oZsY",
        "colab_type": "text"
      },
      "source": [
        "### Question: How did you decide on your model hyperparameters? \n",
        "For example, did you try different sequence_lengths and find that one size made the model converge faster? What about your hidden_dim and n_layers; how did you decide on those?"
      ]
    },
    {
      "cell_type": "markdown",
      "metadata": {
        "id": "qiO0_SMUoZsY",
        "colab_type": "text"
      },
      "source": [
        "**Answer:** (Write answer, here)\n",
        "\n",
        "My decison on the model hyperparameters was based on the course content on embedding and hyperparameters.\n",
        "\n",
        "\n",
        "*   By trying different sequence_lengths, i discorvered that Lowering sequence_length decreases loss faster, while high sequence_length make loss decrease slower with well precised model. I found the value of 6 to be optimal\n",
        "*   The value used for  batch size, embedding_dim, learning rates and epochs are based on the course contents, where the batch size could be the value of 32, 64, 128 and 256. For embedding, the best option is choosing between 200 - 300. The good starting point for learning rate is 0.01. As regards to that, i choose 128 for batch size, 256 for embedding_dim, 10 epochs and 0.002 for learning rate. The combination of these hyperparameters improves the performance of the model to some extend.\n",
        "*  I choose the value of 256 for hidden_dim after reading and understanding that, lower hidden_dim leads to loss decrease performance improvement but in long run, model converges at higher loss values. while high hidden_dim leads to slow convergence but gives a more precise model in the long run. \n",
        "*  As for n_layers, it is known that a good number of layers would be 2 or 3. Therefore, i have chosen 2 because it makes loss decrease faster\n",
        "\n"
      ]
    },
    {
      "cell_type": "markdown",
      "metadata": {
        "id": "T2dykm2PoZsZ",
        "colab_type": "text"
      },
      "source": [
        "---\n",
        "# Checkpoint\n",
        "\n",
        "After running the above training cell, your model will be saved by name, `trained_rnn`, and if you save your notebook progress, **you can pause here and come back to this code at another time**. You can resume your progress by running the next cell, which will load in our word:id dictionaries _and_ load in your saved model by name!"
      ]
    },
    {
      "cell_type": "code",
      "metadata": {
        "id": "GYmvx1DNoZsa",
        "colab_type": "code",
        "colab": {}
      },
      "source": [
        "\"\"\"\n",
        "DON'T MODIFY ANYTHING IN THIS CELL\n",
        "\"\"\"\n",
        "import torch\n",
        "import helper\n",
        "import problem_unittests as tests\n",
        "\n",
        "_, vocab_to_int, int_to_vocab, token_dict = helper.load_preprocess()\n",
        "trained_rnn = helper.load_model('./save/trained_rnn')"
      ],
      "execution_count": 0,
      "outputs": []
    },
    {
      "cell_type": "markdown",
      "metadata": {
        "id": "_CynFKRJFPu9",
        "colab_type": "text"
      },
      "source": [
        "\n",
        "# Generate TV Script"
      ]
    },
    {
      "cell_type": "markdown",
      "metadata": {
        "id": "BCgcvLFGFV9N",
        "colab_type": "text"
      },
      "source": [
        "With the network trained and saved, you'll use it to generate a new, \"fake\" Seinfeld TV script in this section."
      ]
    },
    {
      "cell_type": "markdown",
      "metadata": {
        "id": "A5NrJ4SOFX5H",
        "colab_type": "text"
      },
      "source": [
        "**Generate Text**"
      ]
    },
    {
      "cell_type": "markdown",
      "metadata": {
        "id": "fX05lifsFfSG",
        "colab_type": "text"
      },
      "source": [
        "To generate the text, the network needs to start with a single word and repeat its predictions until it reaches a set length. You'll be using the generate function to do this. It takes a word id to start with, prime_id, and generates a set length of text, predict_len. Also note that it uses topk sampling to introduce some randomness in choosing the most likely next word, given an output set of word scores!"
      ]
    },
    {
      "cell_type": "code",
      "metadata": {
        "id": "O74TQ0-0oZsg",
        "colab_type": "code",
        "colab": {}
      },
      "source": [
        "\"\"\"\n",
        "DON'T MODIFY ANYTHING IN THIS CELL THAT IS BELOW THIS LINE\n",
        "\"\"\"\n",
        "import torch.nn.functional as F\n",
        "\n",
        "def generate(rnn, prime_id, int_to_vocab, token_dict, pad_value, predict_len=100):\n",
        "    \"\"\"\n",
        "    Generate text using the neural network\n",
        "    :param decoder: The PyTorch Module that holds the trained neural network\n",
        "    :param prime_id: The word id to start the first prediction\n",
        "    :param int_to_vocab: Dict of word id keys to word values\n",
        "    :param token_dict: Dict of puncuation tokens keys to puncuation values\n",
        "    :param pad_value: The value used to pad a sequence\n",
        "    :param predict_len: The length of text to generate\n",
        "    :return: The generated text\n",
        "    \"\"\"\n",
        "    rnn.eval()\n",
        "    \n",
        "    # create a sequence (batch_size=1) with the prime_id\n",
        "    current_seq = np.full((1, sequence_length), pad_value)\n",
        "    current_seq[-1][-1] = prime_id\n",
        "    predicted = [int_to_vocab[prime_id]]\n",
        "    \n",
        "    for _ in range(predict_len):\n",
        "        if train_on_gpu:\n",
        "            current_seq = torch.LongTensor(current_seq).cuda()\n",
        "        else:\n",
        "            current_seq = torch.LongTensor(current_seq)\n",
        "        \n",
        "        # initialize the hidden state\n",
        "        hidden = rnn.init_hidden(current_seq.size(0))\n",
        "        \n",
        "        # get the output of the rnn\n",
        "        output, _ = rnn(current_seq, hidden)\n",
        "        \n",
        "        # get the next word probabilities\n",
        "        p = F.softmax(output, dim=1).data\n",
        "        if(train_on_gpu):\n",
        "            p = p.cpu() # move to cpu\n",
        "         \n",
        "        # use top_k sampling to get the index of the next word\n",
        "        top_k = 5\n",
        "        p, top_i = p.topk(top_k)\n",
        "        top_i = top_i.numpy().squeeze()\n",
        "        \n",
        "        # select the likely next word index with some element of randomness\n",
        "        p = p.numpy().squeeze()\n",
        "        word_i = np.random.choice(top_i, p=p/p.sum())\n",
        "        \n",
        "        # retrieve that word from the dictionary\n",
        "        word = int_to_vocab[word_i]\n",
        "        predicted.append(word)     \n",
        "        \n",
        "        if(train_on_gpu):\n",
        "            current_seq = current_seq.cpu() # move to cpu\n",
        "        # the generated word becomes the next \"current sequence\" and the cycle can continue\n",
        "        if train_on_gpu:\n",
        "            current_seq = current_seq.cpu()\n",
        "        current_seq = np.roll(current_seq, -1, 1)\n",
        "        current_seq[-1][-1] = word_i\n",
        "    \n",
        "    gen_sentences = ' '.join(predicted)\n",
        "    \n",
        "    # Replace punctuation tokens\n",
        "    for key, token in token_dict.items():\n",
        "        ending = ' ' if key in ['\\n', '(', '\"'] else ''\n",
        "        gen_sentences = gen_sentences.replace(' ' + token.lower(), key)\n",
        "    gen_sentences = gen_sentences.replace('\\n ', '\\n')\n",
        "    gen_sentences = gen_sentences.replace('( ', '(')\n",
        "    \n",
        "    # return all the sentences\n",
        "    return gen_sentences"
      ],
      "execution_count": 0,
      "outputs": []
    },
    {
      "cell_type": "markdown",
      "metadata": {
        "id": "szf8FqmPoZsk",
        "colab_type": "text"
      },
      "source": [
        "### Generate a New Script\n",
        "It's time to generate the text. Set `gen_length` to the length of TV script you want to generate and set `prime_word` to one of the following to start the prediction:\n",
        "- \"jerry\"\n",
        "- \"elaine\"\n",
        "- \"george\"\n",
        "- \"kramer\"\n",
        "\n",
        "You can set the prime word to _any word_ in our dictionary, but it's best to start with a name for generating a TV script. (You can also start with any other names you find in the original text file!)"
      ]
    },
    {
      "cell_type": "code",
      "metadata": {
        "id": "eVqiR-EUoZsk",
        "colab_type": "code",
        "outputId": "70ae8d9a-05e0-490f-fe30-ac8fa3316dd8",
        "colab": {
          "base_uri": "https://localhost:8080/",
          "height": 1000
        }
      },
      "source": [
        "# run the cell multiple times to get different results!\n",
        "gen_length = 400 # modify the length to your preference\n",
        "prime_word = 'jerry' # name for starting the script\n",
        "\n",
        "\"\"\"\n",
        "DON'T MODIFY ANYTHING IN THIS CELL THAT IS BELOW THIS LINE\n",
        "\"\"\"\n",
        "pad_word = helper.SPECIAL_WORDS['PADDING']\n",
        "generated_script = generate(trained_rnn, vocab_to_int[prime_word + ':'], int_to_vocab, token_dict, vocab_to_int[pad_word], gen_length)\n",
        "print(generated_script)"
      ],
      "execution_count": 0,
      "outputs": [
        {
          "output_type": "stream",
          "text": [
            "jerry: objection nazi, you have no moops.\n",
            "\n",
            "hoyt: i think it was not moops.\n",
            "\n",
            "elaine: you know, the law certainly is a regular time?\n",
            "\n",
            "jerry: yes.\n",
            "\n",
            "[new boy: marcellino, i know how he was persisting to the court?\n",
            "\n",
            "jerry: i thought that you are overheard standing in a plane.\n",
            "\n",
            "hoyt: i think i can have to go back.\n",
            "\n",
            "elaine: oh, i forgot to see the law.\n",
            "\n",
            "george: yes. you know, i could get rid of the law. i hate you.\n",
            "\n",
            "hoyt: yes.\n",
            "\n",
            "[new witness: the prosecution girlfriend]..\n",
            "\n",
            "jerry: you know, i have a little nervous.\n",
            "\n",
            "elaine: you know, i have an animal. you can get the phone in the air?\n",
            "\n",
            "hoyt: the bubble nazi.\n",
            "\n",
            "jerry: oh, that's right.\n",
            "\n",
            "jerry: oh, yeah. well, it's not a good evening of trivial.\n",
            "\n",
            "bookman: what?\n",
            "\n",
            "bookman: so, what happened to you, mr choate, i was employed.\n",
            "\n",
            "bookman: yes.\n",
            "\n",
            "jerry: yes, i was employed.\n",
            "\n",
            "george: what is this?\n",
            "\n",
            "jerry: i was thinking of the deported.\n",
            "\n",
            "george: yes, you are.\n",
            "\n",
            "estelle: you have any money.\n",
            "\n",
            "jerry: what?\n",
            "\n",
            "jerry: oh, i got it on the courtroom.\n",
            "\n",
            "elaine: i think it would be a character.\n",
            "\n",
            "hoyt: you seemingly.\n",
            "\n",
            "bookman: you know, i think that i was in the contest.\n",
            "\n",
            "jerry: i thought it was.\n",
            "\n",
            "jerry: you know, the court was in the courtroom?\n",
            "\n",
            "george: yes, i was a little anxious.\n",
            "\n",
            "george: what?\n",
            "\n",
            "jerry: oh, i gotta get it out of this town, and then you could call me to a game, you have no moral compass.\n",
            "\n",
            "elaine: what?\n",
            "\n",
            "jerry: i don't understand.\n",
            "\n",
            "kramer: well, it's not the most of us in the contest\n"
          ],
          "name": "stdout"
        }
      ]
    },
    {
      "cell_type": "markdown",
      "metadata": {
        "id": "NZKcZUnHoZso",
        "colab_type": "text"
      },
      "source": [
        "#### Save your favorite scripts\n",
        "\n",
        "Once you have a script that you like (or find interesting), save it to a text file!"
      ]
    },
    {
      "cell_type": "code",
      "metadata": {
        "id": "fi2AUS2toZsp",
        "colab_type": "code",
        "colab": {}
      },
      "source": [
        "# save script to a text file\n",
        "f =  open(\"generated_script_1.txt\",\"w\")\n",
        "f.write(generated_script)\n",
        "f.close()"
      ],
      "execution_count": 0,
      "outputs": []
    },
    {
      "cell_type": "markdown",
      "metadata": {
        "id": "CdQkq7IgoZsw",
        "colab_type": "text"
      },
      "source": [
        "# The TV Script is Not Perfect\n",
        "It's ok if the TV script doesn't make perfect sense. It should look like alternating lines of dialogue, here is one such example of a few generated lines.\n",
        "\n",
        "### Example generated script\n",
        "\n",
        ">jerry: what about me?\n",
        ">\n",
        ">jerry: i don't have to wait.\n",
        ">\n",
        ">kramer:(to the sales table)\n",
        ">\n",
        ">elaine:(to jerry) hey, look at this, i'm a good doctor.\n",
        ">\n",
        ">newman:(to elaine) you think i have no idea of this...\n",
        ">\n",
        ">elaine: oh, you better take the phone, and he was a little nervous.\n",
        ">\n",
        ">kramer:(to the phone) hey, hey, jerry, i don't want to be a little bit.(to kramer and jerry) you can't.\n",
        ">\n",
        ">jerry: oh, yeah. i don't even know, i know.\n",
        ">\n",
        ">jerry:(to the phone) oh, i know.\n",
        ">\n",
        ">kramer:(laughing) you know...(to jerry) you don't know.\n",
        "\n",
        "You can see that there are multiple characters that say (somewhat) complete sentences, but it doesn't have to be perfect! It takes quite a while to get good results, and often, you'll have to use a smaller vocabulary (and discard uncommon words), or get more data.  The Seinfeld dataset is about 3.4 MB, which is big enough for our purposes; for script generation you'll want more than 1 MB of text, generally. \n",
        "\n",
        "# Submitting This Project\n",
        "When submitting this project, make sure to run all the cells before saving the notebook. Save the notebook file as \"dlnd_tv_script_generation.ipynb\" and save another copy as an HTML file by clicking \"File\" -> \"Download as..\"->\"html\". Include the \"helper.py\" and \"problem_unittests.py\" files in your submission. Once you download these files, compress them into one zip file for submission."
      ]
    },
    {
      "cell_type": "code",
      "metadata": {
        "id": "6YrX__9SoZsx",
        "colab_type": "code",
        "colab": {}
      },
      "source": [
        ""
      ],
      "execution_count": 0,
      "outputs": []
    }
  ]
}